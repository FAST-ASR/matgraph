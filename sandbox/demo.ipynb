{
 "cells": [
  {
   "cell_type": "code",
   "execution_count": 1,
   "id": "1423c949-5f7b-49cd-bafc-25d3f2569f31",
   "metadata": {},
   "outputs": [
    {
     "name": "stdout",
     "output_type": "stream",
     "text": [
      "[juliapkg] Locating Julia ^1.6\n",
      "[juliapkg] Using Julia 1.7.2 at /home/ubuntu/Julia/julia-1.7.2/bin/julia\n",
      "[juliapkg] Using Julia project at /mnt/disks/data/Repositories/FAST-ASR/matgraph/matgraphenv/julia_env\n",
      "[juliapkg] Installing packages:\n",
      "           julia> import Pkg\n",
      "           julia> Pkg.add([Pkg.PackageSpec(name=\"PythonCall\", uuid=\"6099a3de-0909-46bc-b1f4-468b9a2dfc0d\"), Pkg.PackageSpec(name=\"CUDA\", uuid=\"052768ef-5323-5732-b1bb-66c8b64840ba\"), Pkg.PackageSpec(name=\"DLPack\", uuid=\"53c2dc0f-f7d5-43fd-8906-6c0220547083\"), Pkg.PackageSpec(name=\"MarkovModels\", uuid=\"c2ae6250-d0a1-11ea-0991-234599ce5244\", url=raw\"https://github.com/FAST-ASR/MarkovModels.jl.git\", rev=raw\"uniqfsm\"), Pkg.PackageSpec(name=\"Semirings\", uuid=\"900aad66-9ca5-44d4-b043-321c62cb7767\", rev=raw\"main\"), Pkg.PackageSpec(name=\"Adapt\", uuid=\"79e6a3ab-5dfb-504d-930d-738a2a938a0e\")])\n",
      "           julia> Pkg.resolve()\n"
     ]
    },
    {
     "name": "stderr",
     "output_type": "stream",
     "text": [
      "    Updating git-repo `https://github.com/FAST-ASR/MarkovModels.jl.git`\n",
      "    Updating git-repo `https://github.com/FAST-ASR/Semirings.jl.git`\n",
      "    Updating registry at `~/.julia-1.7.2/registries/General.toml`\n",
      "   Resolving package versions...\n",
      "    Updating `/mnt/disks/data/Repositories/FAST-ASR/matgraph/matgraphenv/julia_env/Project.toml`\n",
      "  [c2ae6250] ~ MarkovModels v0.10.0 `https://github.com/FAST-ASR/MarkovModels.jl.git#uniqfsm` ⇒ v0.10.0 `https://github.com/FAST-ASR/MarkovModels.jl.git#uniqfsm`\n",
      "    Updating `/mnt/disks/data/Repositories/FAST-ASR/matgraph/matgraphenv/julia_env/Manifest.toml`\n",
      "  [c2ae6250] ~ MarkovModels v0.10.0 `https://github.com/FAST-ASR/MarkovModels.jl.git#uniqfsm` ⇒ v0.10.0 `https://github.com/FAST-ASR/MarkovModels.jl.git#uniqfsm`\n",
      "Precompiling project...\n",
      "\u001b[32m  ✓ \u001b[39mMarkovModels\n",
      "  1 dependency successfully precompiled in 7 seconds (157 already precompiled)\n",
      "  No Changes to `/mnt/disks/data/Repositories/FAST-ASR/matgraph/matgraphenv/julia_env/Project.toml`\n",
      "  No Changes to `/mnt/disks/data/Repositories/FAST-ASR/matgraph/matgraphenv/julia_env/Manifest.toml`\n"
     ]
    }
   ],
   "source": [
    "import sys\n",
    "sys.path.insert(0, \"../\")\n",
    "\n",
    "import math\n",
    "import matgraph as mg\n",
    "import torch\n",
    "import matplotlib.pyplot as plt\n",
    "\n",
    "%load_ext autoreload\n",
    "%autoreload 2"
   ]
  },
  {
   "cell_type": "code",
   "execution_count": 3,
   "id": "03c0e1d8-cb07-41bb-9063-d6939925f04d",
   "metadata": {},
   "outputs": [],
   "source": [
    "fsm = mg.FSM.from_files(\n",
    "    \"/home/ubuntu/Exps/lfmmi2/sup_s03_lm3/denominator.fsm\",\n",
    "    \"/home/ubuntu/Exps/lfmmi2/sup_s03_lm3/denominator.smap\"\n",
    ")\n",
    "seqlengths = [83, 83]\n",
    "\n",
    "X = torch.randn(2, seqlengths[1], 96).cuda()"
   ]
  },
  {
   "cell_type": "code",
   "execution_count": 4,
   "id": "e2e93457-e2b1-4e23-b972-402c849c55b4",
   "metadata": {},
   "outputs": [],
   "source": [
    "bfsm = mg.BatchFSM.from_list([fsm, fsm])\n",
    "bfsm = bfsm.cuda()"
   ]
  },
  {
   "cell_type": "code",
   "execution_count": null,
   "id": "53154fea-bb1b-4819-bfb8-e87a62c1b5a6",
   "metadata": {},
   "outputs": [],
   "source": [
    "Z, ttl = mg.pdfposteriors(bfsm, X, seqlengths)"
   ]
  },
  {
   "cell_type": "code",
   "execution_count": 39,
   "id": "7a3b40c9-1bdc-437d-be51-5297382afc8e",
   "metadata": {},
   "outputs": [
    {
     "data": {
      "image/png": "[encoded data removed]",
      "text/plain": [
       "<Figure size 1440x720 with 1 Axes>"
      ]
     },
     "metadata": {
      "needs_background": "light"
     },
     "output_type": "display_data"
    }
   ],
   "source": [
    "%matplotlib inline\n",
    "\n",
    "plt.rcParams[\"figure.figsize\"] = (20, 10)\n",
    "plt.imshow(Z.cpu().numpy()[1].T, cmap='viridis', interpolation='nearest')\n",
    "plt.show()"
   ]
  }
 ],
 "metadata": {
  "kernelspec": {
   "display_name": "Python 3 (ipykernel)",
   "language": "python",
   "name": "python3"
  },
  "language_info": {
   "codemirror_mode": {
    "name": "ipython",
    "version": 3
   },
   "file_extension": ".py",
   "mimetype": "text/x-python",
   "name": "python",
   "nbconvert_exporter": "python",
   "pygments_lexer": "ipython3",
   "version": "3.10.4"
  }
 },
 "nbformat": 4,
 "nbformat_minor": 5
}
