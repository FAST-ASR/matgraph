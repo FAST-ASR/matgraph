{
 "cells": [
  {
   "cell_type": "code",
   "execution_count": 24,
   "id": "1423c949-5f7b-49cd-bafc-25d3f2569f31",
   "metadata": {},
   "outputs": [
    {
     "name": "stdout",
     "output_type": "stream",
     "text": [
      "The autoreload extension is already loaded. To reload it, use:\n",
      "  %reload_ext autoreload\n"
     ]
    }
   ],
   "source": [
    "import sys\n",
    "sys.path.insert(0, \"../\")\n",
    "\n",
    "import math\n",
    "import matgraph as mg\n",
    "import torch\n",
    "import matplotlib.pyplot as plt\n",
    "\n",
    "%load_ext autoreload\n",
    "%autoreload 2\n",
    "\n",
    "%load_ext line_profiler"
   ]
  },
  {
   "cell_type": "code",
   "execution_count": 22,
   "id": "03c0e1d8-cb07-41bb-9063-d6939925f04d",
   "metadata": {},
   "outputs": [],
   "source": [
    "fsm = mg.CompiledFSA.from_file(\n",
    "    \"/home/ubuntu/Exps/lfmmi2/sup_s03_lm/graphs/denominator.fsa\",\n",
    ")\n",
    "seqlengths = torch.tensor([100]).repeat(32).numpy()\n",
    "X = 100*torch.randn(len(seqlengths), seqlengths[1], 96).cuda()"
   ]
  },
  {
   "cell_type": "code",
   "execution_count": null,
   "id": "2b0e351f-770d-4cee-9a14-a81e273a8040",
   "metadata": {},
   "outputs": [
    {
     "data": {
      "text/plain": [
       "torch.Size([32, 100, 96])"
      ]
     },
     "execution_count": 17,
     "metadata": {},
     "output_type": "execute_result"
    }
   ],
   "source": [
    "X.shape"
   ]
  },
  {
   "cell_type": "code",
   "execution_count": 18,
   "id": "e2e93457-e2b1-4e23-b972-402c849c55b4",
   "metadata": {},
   "outputs": [],
   "source": [
    "bfsm = mg.BatchCompiledFSA.from_list([fsm for _ in range(len(seqlengths))])\n",
    "bfsm = bfsm.cuda()"
   ]
  },
  {
   "cell_type": "code",
   "execution_count": 20,
   "id": "53154fea-bb1b-4819-bfb8-e87a62c1b5a6",
   "metadata": {},
   "outputs": [],
   "source": [
    "Z, ttl = mg.pdfposteriors(bfsm, X, seqlengths)"
   ]
  },
  {
   "cell_type": "code",
   "execution_count": 30,
   "id": "f1b5bac4-cf42-4763-a7ca-8a0d2bb82636",
   "metadata": {},
   "outputs": [
    {
     "name": "stderr",
     "output_type": "stream",
     "text": [
      "UsageError: Line magic function `%prun?` not found.\n"
     ]
    }
   ],
   "source": [
    "%prun? "
   ]
  },
  {
   "cell_type": "code",
   "execution_count": 28,
   "id": "9cf42ed6-deab-483c-97fd-9027d1de236c",
   "metadata": {},
   "outputs": [
    {
     "name": "stdout",
     "output_type": "stream",
     "text": [
      " "
     ]
    },
    {
     "data": {
      "text/plain": [
       "         74 function calls in 0.162 seconds\n",
       "\n",
       "   Ordered by: internal time\n",
       "\n",
       "   ncalls  tottime  percall  cumtime  percall filename:lineno(function)\n",
       "       22    0.162    0.007    0.162    0.007 {method '_jl_callmethod' of 'juliacall.ValueBase' objects}\n",
       "       10    0.000    0.000    0.162    0.016 any.jl:168:29(__call__)\n",
       "        1    0.000    0.000    0.162    0.162 fsa.py:79(pdfposteriors)\n",
       "       12    0.000    0.000    0.000    0.000 any.jl:168:14(__getattr__)\n",
       "        1    0.000    0.000    0.162    0.162 {built-in method builtins.exec}\n",
       "        2    0.000    0.000    0.000    0.000 {built-in method torch._C._from_dlpack}\n",
       "        2    0.000    0.000    0.000    0.000 dlpack.py:47(from_dlpack)\n",
       "       12    0.000    0.000    0.000    0.000 {method 'startswith' of 'str' objects}\n",
       "        2    0.000    0.000    0.000    0.000 __init__.py:148(is_initialized)\n",
       "        2    0.000    0.000    0.000    0.000 __init__.py:190(_lazy_init)\n",
       "        2    0.000    0.000    0.000    0.000 __init__.py:177(init)\n",
       "        2    0.000    0.000    0.000    0.000 {built-in method builtins.hasattr}\n",
       "        1    0.000    0.000    0.162    0.162 <string>:1(<module>)\n",
       "        2    0.000    0.000    0.000    0.000 {built-in method torch._C._cuda_isInBadFork}\n",
       "        1    0.000    0.000    0.000    0.000 {method 'disable' of '_lsprof.Profiler' objects}"
      ]
     },
     "metadata": {},
     "output_type": "display_data"
    }
   ],
   "source": [
    "%prun mg.pdfposteriors(bfsm, X, seqlengths)"
   ]
  },
  {
   "cell_type": "code",
   "execution_count": 33,
   "id": "966b3123-620a-4172-b4c9-0aaf55c56f7e",
   "metadata": {},
   "outputs": [
    {
     "name": "stdout",
     "output_type": "stream",
     "text": [
      "448 ms ± 11.4 ms per loop (mean ± std. dev. of 7 runs, 10 loops each)\n"
     ]
    }
   ],
   "source": [
    "%timeit mg.pdfposteriors(bfsm, X, seqlengths);"
   ]
  },
  {
   "cell_type": "code",
   "execution_count": 15,
   "id": "7a3b40c9-1bdc-437d-be51-5297382afc8e",
   "metadata": {},
   "outputs": [
    {
     "data": {
      "image/png": "[encoded data removed]",
      "text/plain": [
       "<Figure size 1440x720 with 1 Axes>"
      ]
     },
     "metadata": {
      "needs_background": "light"
     },
     "output_type": "display_data"
    }
   ],
   "source": [
    "%matplotlib inline\n",
    "\n",
    "plt.rcParams[\"figure.figsize\"] = (20, 10)\n",
    "plt.imshow(Z.cpu().numpy()[1].T, cmap='viridis', interpolation='nearest')\n",
    "plt.show()"
   ]
  }
 ],
 "metadata": {
  "kernelspec": {
   "display_name": "Python 3 (ipykernel)",
   "language": "python",
   "name": "python3"
  },
  "language_info": {
   "codemirror_mode": {
    "name": "ipython",
    "version": 3
   },
   "file_extension": ".py",
   "mimetype": "text/x-python",
   "name": "python",
   "nbconvert_exporter": "python",
   "pygments_lexer": "ipython3",
   "version": "3.7.13"
  }
 },
 "nbformat": 4,
 "nbformat_minor": 5
}
